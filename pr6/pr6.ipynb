{
 "cells": [
  {
   "cell_type": "code",
   "id": "initial_id",
   "metadata": {
    "collapsed": true,
    "ExecuteTime": {
     "end_time": "2025-03-18T08:18:11.818168Z",
     "start_time": "2025-03-18T08:18:11.811899Z"
    }
   },
   "source": "[f\"img_{i:02}.png\" for i in range(1, 51)]",
   "outputs": [
    {
     "data": {
      "text/plain": [
       "['img_01.png',\n",
       " 'img_02.png',\n",
       " 'img_03.png',\n",
       " 'img_04.png',\n",
       " 'img_05.png',\n",
       " 'img_06.png',\n",
       " 'img_07.png',\n",
       " 'img_08.png',\n",
       " 'img_09.png',\n",
       " 'img_10.png',\n",
       " 'img_11.png',\n",
       " 'img_12.png',\n",
       " 'img_13.png',\n",
       " 'img_14.png',\n",
       " 'img_15.png',\n",
       " 'img_16.png',\n",
       " 'img_17.png',\n",
       " 'img_18.png',\n",
       " 'img_19.png',\n",
       " 'img_20.png',\n",
       " 'img_21.png',\n",
       " 'img_22.png',\n",
       " 'img_23.png',\n",
       " 'img_24.png',\n",
       " 'img_25.png',\n",
       " 'img_26.png',\n",
       " 'img_27.png',\n",
       " 'img_28.png',\n",
       " 'img_29.png',\n",
       " 'img_30.png',\n",
       " 'img_31.png',\n",
       " 'img_32.png',\n",
       " 'img_33.png',\n",
       " 'img_34.png',\n",
       " 'img_35.png',\n",
       " 'img_36.png',\n",
       " 'img_37.png',\n",
       " 'img_38.png',\n",
       " 'img_39.png',\n",
       " 'img_40.png',\n",
       " 'img_41.png',\n",
       " 'img_42.png',\n",
       " 'img_43.png',\n",
       " 'img_44.png',\n",
       " 'img_45.png',\n",
       " 'img_46.png',\n",
       " 'img_47.png',\n",
       " 'img_48.png',\n",
       " 'img_49.png',\n",
       " 'img_50.png']"
      ]
     },
     "execution_count": 2,
     "metadata": {},
     "output_type": "execute_result"
    }
   ],
   "execution_count": 2
  },
  {
   "metadata": {
    "ExecuteTime": {
     "end_time": "2025-03-18T08:21:40.349316Z",
     "start_time": "2025-03-18T08:21:40.343388Z"
    }
   },
   "cell_type": "code",
   "source": [
    "with open(\"countries.txt\", \"r\", encoding=\"utf-8\") as file:\n",
    "    countries = [line.strip() for line in file if line.strip()]\n",
    "\n",
    "contains_patterns = [c for c in countries if \"ee\" in c or \"ll\" in c or \"oro\" in c]\n",
    "contains_and_not_land = [c for c in countries if \"and\" in c and \"land\" not in c]\n",
    "contains_z = [c for c in countries if \"z\" in c or \"Z\" in c]\n",
    "length_13 = [c for c in countries if len(c) == 13]\n",
    "one_or_more_than_two_spaces = [c for c in countries if c.count(\" \") == 1 or c.count(\" \") > 2]\n",
    "\n",
    "print(\"Countries that contain 'ee', 'll', or 'oro':\", contains_patterns)\n",
    "print(\"\\nCountries that contain 'and' but not 'land':\", contains_and_not_land)\n",
    "print(\"\\nCountries that contain 'z' or 'Z':\", contains_z)\n",
    "print(\"\\nCountries with names of exactly 13 letters:\", length_13)\n",
    "print(\"\\nCountries with exactly 1 or more than 2 spaces in their names:\", one_or_more_than_two_spaces)"
   ],
   "id": "900a6efe2d8f4207",
   "outputs": [
    {
     "name": "stdout",
     "output_type": "stream",
     "text": [
      "Countries that contain 'ee', 'll', or 'oro': ['Comoros', 'Greece', 'Holy see', 'Marshall Islands', 'Morocco', 'Seychelles']\n",
      "\n",
      "Countries that contain 'and' but not 'land': ['Antigua and Barbuda', 'Bosnia and Herzegovina', 'Rwanda', 'St. Kitts and Nevis', 'St. Vincent and the Grenadines', 'Sao Tome and Principe', 'Trinidad and Tobago', 'Uganda']\n",
      "\n",
      "Countries that contain 'z' or 'Z': ['Azerbaijan', 'Belize', 'Bosnia and Herzegovina', 'Brazil', 'Czech Republic', 'Kazakhstan', 'Kyrgyz Republic', 'Mozambique', 'New Zealand', 'Swaziland', 'Switzerland', 'Tanzania', 'Uzbekistan', 'Venezuela', 'Zambia', 'Zimbabwe']\n",
      "\n",
      "Countries with names of exactly 13 letters: [\"Cote d'Ivoire\", 'Guinea-Bissau', 'Liechtenstein', 'United States']\n",
      "\n",
      "Countries with exactly 1 or more than 2 spaces in their names: ['Burkina Faso', 'Cape Verde', 'Congo, Rep.', 'Costa Rica', \"Cote d'Ivoire\", 'Czech Republic', 'Dominican Republic', 'El Salvador', 'Equatorial Guinea', 'Holy see', 'North Korea', 'South Korea', 'Kyrgyz Republic', 'Macedonia, FYR', 'Marshall Islands', 'New Zealand', 'St. Kitts and Nevis', 'St. Lucia', 'St. Vincent and the Grenadines', 'San Marino', 'Sao Tome and Principe', 'Saudi Arabia', 'Sierra Leone', 'Slovak Republic', 'Solomon Islands', 'South Africa', 'South Sudan', 'Sri Lanka', 'United Kingdom', 'United States']\n"
     ]
    }
   ],
   "execution_count": 3
  },
  {
   "metadata": {
    "ExecuteTime": {
     "end_time": "2025-03-18T08:24:01.072947Z",
     "start_time": "2025-03-18T08:24:01.068878Z"
    }
   },
   "cell_type": "code",
   "source": [
    "import math\n",
    "\n",
    "print(f\"Fixed format: {math.pi:.4f}\")\n",
    "\n",
    "print(f\"Scientific format: {math.pi:.3e}\")\n",
    "\n",
    "print(f\"Percentage format: {math.pi:.1%}\")\n",
    "\n",
    "print(f\"Right-aligned format: {math.pi:10.2f}\")\n",
    "\n",
    "print(f\"Zero-padded format: {math.pi:08.3f}\")"
   ],
   "id": "2ed8deb1967f7583",
   "outputs": [
    {
     "name": "stdout",
     "output_type": "stream",
     "text": [
      "Fixed format: 3.1416\n",
      "Scientific format: 3.142e+00\n",
      "Percentage format: 314.2%\n",
      "Right-aligned format:       3.14\n",
      "Zero-padded format: 0003.142\n"
     ]
    }
   ],
   "execution_count": 4
  }
 ],
 "metadata": {
  "kernelspec": {
   "display_name": "Python 3",
   "language": "python",
   "name": "python3"
  },
  "language_info": {
   "codemirror_mode": {
    "name": "ipython",
    "version": 2
   },
   "file_extension": ".py",
   "mimetype": "text/x-python",
   "name": "python",
   "nbconvert_exporter": "python",
   "pygments_lexer": "ipython2",
   "version": "2.7.6"
  }
 },
 "nbformat": 4,
 "nbformat_minor": 5
}
